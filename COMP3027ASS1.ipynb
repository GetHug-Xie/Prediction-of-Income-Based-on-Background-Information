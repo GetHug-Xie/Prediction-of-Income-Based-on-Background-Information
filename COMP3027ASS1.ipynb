{
 "cells": [
  {
   "cell_type": "markdown",
   "metadata": {},
   "source": [
    "### The University of Melbourne, School of Computing and Information Systems\n",
    "# COMP30027 Machine Learning, 2022 Semester 1\n",
    "\n",
    "## Assignment 1: Naive Bayes Leaner for Adult Database\n"
   ]
  },
  {
   "cell_type": "markdown",
   "metadata": {},
   "source": [
    "**Student Name(s):** `Jie Xie`\n",
    "<br>\n",
    "**Student ID(s):** `1174437`"
   ]
  },
  {
   "cell_type": "markdown",
   "metadata": {},
   "source": [
    "\n",
    "\n",
    "Marking will be applied on the four functions that are defined in this notebook, and to your responses to the questions at the end of this notebook.\n",
    "\n",
    "## General info\n",
    "\n",
    "<b>Due date</b>: Friday, 8 April 2022 7pm\n",
    "\n",
    "<b>Submission method</b>: Canvas submission\n",
    "\n",
    "<b>Submission materials</b>: This iPython notebook is a template which you will use for your Assignment 1 submission. You need to only submitted the completed copy of this iPython notebook.\n",
    "\n",
    "<b>Late submissions</b>: -10% per day up to 5 days (both weekdays and weekends count). Submissions more than 5 days late will not be accepted (resul in a mark of 0).\n",
    "<ul>\n",
    "    <li>one day late, -1.0;</li>\n",
    "    <li>two days late, -2.0;</li>\n",
    "    <li>three days late, -3.0;</li>\n",
    "    <li>four days late, -4.0;</li>\n",
    "    <li>five days late, -5.0;</li>\n",
    "</ul>\n",
    "\n",
    "<b>Extensions</b>: Students who are demonstrably unable to submit a full solution in time due to medical reasons or other trauma, may apply for an extension.  In these cases, you should email <a href=\"mailto:ni.ding@unimelb.edu.au\">Ni Ding</a> as soon as possible after those circumstances arise. If you attend a GP or other health care service as a result of illness, be sure to provide a Health Professional Report (HPR) form (get it from the Special Consideration section of the Student Portal), you will need this form to be filled out if your illness develops into something that later requires a Special Consideration application to be lodged. You should scan the HPR form and send it with the extension requests.\n",
    "\n",
    "<b>Marks</b>: This assignment will be marked out of 20, and make up 20% of your overall mark for this subject.\n",
    "\n",
    "<b>Materials</b>: Use Jupyter Notebook and Python page on Canvas for information on the basic setup required for this class, including an iPython notebook viewer and the python packages NLTK, Numpy, Scipy, Matplotlib, Scikit-Learn. You can use any Python built-in packages, but do not use any other 3rd party packages; if your iPython notebook doesn't run on the marker's machine, you will lose marks. <b> You should use Python 3</b>.  \n",
    "\n",
    "\n",
    "<b>Evaluation</b>: Your iPython notebook should run end-to-end without any errors in a reasonable amount of time, and you must follow all instructions provided below, including specific implementation requirements and instructions for what needs to be printed (please avoid printing output we don't ask for). You should edit the sections below where requested, but leave the rest of the code as is. You should leave the output from running your code in the iPython notebook you submit, to assist with marking. The amount each section is worth is given in parenthesis after the instructions. \n",
    "\n",
    "You will be marked not only on the correctness of your methods, but also the quality and efficency of your code: in particular, you should be careful to use Python built-in functions and operators when appropriate and pick descriptive variable names that adhere to <a href=\"https://www.python.org/dev/peps/pep-0008/\">Python style requirements</a>. If you think it might be unclear what you are doing, you should comment your code to help the marker make sense of it. We reserve the right to deduct up to 2 marks for unreadable or exessively inefficient code.\n",
    "\n",
    "8 of the marks available for this Project will be assigned to whether the four specified Python functions work in a manner consistent with the materials from COMP30027. Any other implementation will not be directly assessed (except insofar as it is required to make these five functions work correctly).\n",
    "\n",
    "12 of the marks will be assigned to your responses to the questions, in terms of both accuracy and insightfulness. We will be looking for evidence that you have an implementation that allows you to explore the problem, but also that you have thought deeply about the data and the behaviour of the Naive Bayes classifier.\n",
    "\n",
    "<b>Updates</b>: Any major changes to the assignment will be announced via Canvas. Minor changes and clarifications will be announced on the discussion board (ED -> Assignments -> A1); we recommend you check it regularly.\n",
    "\n",
    "<b>Academic misconduct</b>: For most people, collaboration will form a natural part of the undertaking of this homework, and we encourge you to discuss it in general terms with other students. However, this ultimately is still an individual task, and so reuse of code or other instances of clear influence will be considered cheating. Please check the <a href=\"https://canvas.lms.unimelb.edu.au/courses/124196/modules#module_662096\">CIS Academic Honesty training</a> for more information. We will be checking submissions for originality and will invoke the University’s <a href=\"http://academichonesty.unimelb.edu.au/policy.html\">Academic Misconduct policy</a> where inappropriate levels of collusion or plagiarism are deemed to have taken place.\n",
    "\n",
    "**IMPORTANT**\n",
    "\n",
    "Please carefully read and fill out the <b>Authorship Declaration</b> form at the bottom of the page. Failure to fill out this form results in the following deductions: \n",
    "<UL TYPE=”square”>\n",
    "<LI>missing Authorship Declaration at the bottom of the page, -5.0\n",
    "<LI>incomplete or unsigned Authorship Declaration at the bottom of the page, -3.0\n",
    "</UL>\n",
    "**NOTE: COMPLETE AND SUBMIT THIS FILE. YOU SHOULD IMPLEMENT FOUR FUNCTIONS AND INCLUDE YOUR ANSWERS TO THE QUESTIONS IN THIS FILE ONLY. NO OTHER SUBMISSION IS REQUIRED.**\n",
    "\n",
    "**Keep your code clean. Adding proper comments to your code is MANDATORY.**"
   ]
  },
  {
   "cell_type": "markdown",
   "metadata": {},
   "source": [
    "## Part 1: Base code [8 marks]\n",
    "\n",
    "Instructions\n",
    "1. Do **not** shuffle the data set\n",
    "2. Treat the attributes as they are(e.g., do **not** convert numeric attributes to categorical or categorical to numeric). Implement a Naive Bayes classifier with appropriate likelihood function for each attribute.\n",
    "3. You should implement the Naive Bayes classifier from scratch. Do **not** use existing implementations/learning algorithms.\n",
    "4. You CANNOT have more than one train or predict function. Both continuous numeric attributes and categorical ones should be trained in one `train()` function, similarly for the `predict()`.  \n",
    "5. Apart from the instructions in point 3, you may use libraries to help you with data reading, representation, maths or evaluation\n",
    "6. Ensure that all and only required information is printed, as indicated in the final three code cells. Failure to adhere to print the required information will result in **[-1 mark]** per case. *(We don't mind details like you print a list or several numbers -- just make sure the information is displayed so that it's easily accessible)\n",
    "7. You may change the prototypes of these functions, and you may write other functions, according to your requirements. We would appreciate it if the required functions were prominent/easy to find. \n",
    "8. You should add adequate comments to make your code easily comprehendible.*"
   ]
  },
  {
   "cell_type": "code",
   "execution_count": 1,
   "metadata": {},
   "outputs": [],
   "source": [
    "import numpy as np\n",
    "import pandas as pd\n",
    "import math\n",
    "import scipy.stats"
   ]
  },
  {
   "cell_type": "code",
   "execution_count": 2,
   "metadata": {},
   "outputs": [],
   "source": [
    "# This function should prepare the data by reading it from a file and converting it into a useful format for training and testing\n",
    "# and implement 90-10 splitting as specified in the project description.\n",
    "def preprocess(filename):\n",
    "    # read the data from a file\n",
    "    df = pd.read_csv(filename)\n",
    "    \n",
    "    # calculate the length of the data before splitting \n",
    "    df_len = len(df)\n",
    "    \n",
    "    # define split ratio\n",
    "    split_ratio = 0.9\n",
    "    \n",
    "    # implement 90-10 splitting\n",
    "    X_train = df.iloc[ :int(split_ratio * df_len), :-1]\n",
    "    X_test = df.iloc[int(split_ratio * df_len): , :-1]\n",
    "    y_train = df.iloc[ :int(split_ratio * df_len), -1:]\n",
    "    y_test = df.iloc[int(split_ratio * df_len): , -1:]\n",
    "    \n",
    "    return X_train, X_test, y_train, y_test"
   ]
  },
  {
   "cell_type": "code",
   "execution_count": 3,
   "metadata": {},
   "outputs": [],
   "source": [
    "# This function divides the attributes into nominal or numeric\n",
    "def divide_attributes(df):\n",
    "    num_attribute = len(df.columns)\n",
    "    nominal_attributes = []\n",
    "    numeric_attributes = []\n",
    "    for i in range(num_attribute):\n",
    "        if (df.dtypes[i] == 'int64'):\n",
    "            numeric_attributes.append(df.columns[i])\n",
    "        else:\n",
    "            nominal_attributes.append(df.columns[i])\n",
    "    return numeric_attributes, nominal_attributes"
   ]
  },
  {
   "cell_type": "code",
   "execution_count": 4,
   "metadata": {},
   "outputs": [],
   "source": [
    "# This function calculates the log-based prior probability of one label, logP(cj)\n",
    "def log_prior_prob(label, y_train):\n",
    "    count = 0\n",
    "    for i in range(len(y_train)):\n",
    "        if (label == y_train['label'].iloc[i]):\n",
    "            count += 1\n",
    "    log_prior_prob = np.log(count/len(y_train))\n",
    "    return log_prior_prob"
   ]
  },
  {
   "cell_type": "code",
   "execution_count": 5,
   "metadata": {},
   "outputs": [],
   "source": [
    "# This function calculates the log-based likelihood for numeric attributes, P(Xi|cj)\n",
    "def log_gaussian_pdf(mean, sd, x):\n",
    "    return np.log((1 / sd * math.sqrt(2 * math.pi)) * np.exp(-(x - mean) ** 2 / (2 * sd ** 2)))"
   ]
  },
  {
   "cell_type": "code",
   "execution_count": 6,
   "metadata": {},
   "outputs": [],
   "source": [
    "def mean_sd_dataframe(X_train, y_train, numeric_attributes):\n",
    "    c1_mean_list = []\n",
    "    c1_sd_list = []\n",
    "    c2_mean_list = []\n",
    "    c2_sd_list = []\n",
    "    parameter_list = []\n",
    "    \n",
    "    # get indexes of the instances with label \"<=50K\"\n",
    "    c1_index = y_train.loc[y_train['label']==' <=50K'].index\n",
    "    # get indexes of the instances with label \">50K\"\n",
    "    c2_index = y_train.loc[y_train['label']==' >50K'].index\n",
    "    \n",
    "    for attribute in numeric_attributes:\n",
    "        c1_attribute = X_train.loc[c1_index, attribute]\n",
    "        c1_mean = np.mean(c1_attribute)\n",
    "        c1_sd = np.std(c1_attribute)\n",
    "        \n",
    "        c2_attribute = X_train.loc[c2_index, attribute]\n",
    "        c2_mean = np.mean(c2_attribute)\n",
    "        c2_sd = np.std(c2_attribute)\n",
    "        \n",
    "        c1_mean_list.append(c1_mean)\n",
    "        c1_sd_list.append(c1_sd)\n",
    "        c2_mean_list.append(c2_mean)\n",
    "        c2_sd_list.append(c2_sd)\n",
    "        \n",
    "    parameter_list.append(c1_mean_list)\n",
    "    parameter_list.append(c1_sd_list)\n",
    "    parameter_list.append(c2_mean_list)\n",
    "    parameter_list.append(c2_sd_list)\n",
    "    \n",
    "    df = pd.DataFrame(parameter_list,\n",
    "                     index = ['c1_mean', 'c1_sd', 'c2_mean', 'c2_sd'],\n",
    "                     columns = numeric_attributes)\n",
    "    \n",
    "    return df"
   ]
  },
  {
   "cell_type": "code",
   "execution_count": 7,
   "metadata": {},
   "outputs": [],
   "source": [
    "def get_likelihood(X_train, y_train, nominal_attributes):\n",
    "    parameter_list = []\n",
    "    \n",
    "    # get indexes of the instances with label \"<=50K\"\n",
    "    c1_index = y_train.loc[y_train['label']==' <=50K'].index\n",
    "    # get indexes of the instances with label \">50K\"\n",
    "    c2_index = y_train.loc[y_train['label']==' >50K'].index\n",
    "    \n",
    "    # attempt\n",
    "    train = pd.concat([X_train, y_train], axis=1).reset_index(drop=True)\n",
    "    \n",
    "    for attribute in nominal_attributes:\n",
    "        # get all the attribute values of a specific attribute\n",
    "        attribute_value = list(set(X_train[attribute]))\n",
    "        \n",
    "        c1_attribute = pd.DataFrame(X_train.loc[c1_index, attribute])\n",
    "        c2_attribute = pd.DataFrame(X_train.loc[c2_index, attribute])\n",
    "        \n",
    "        c1_lld_list = []\n",
    "        c2_lld_list = []\n",
    "        \n",
    "        for value in attribute_value:\n",
    "            \n",
    "            # calculate the log likelihood of a nominal attribute with label c1\n",
    "            # c1_likelihood = np.log(len(y_train.loc[y_train['label']==label])/len(c1_index))\n",
    "            if train[train['label']==' <=50K'].shape[0] == 0 or train[(train[attribute]==value)&(train['label']==' <=50K')].shape[0] == 0:\n",
    "                c1_likelihood = 0\n",
    "            else:\n",
    "                c1_likelihood = np.log(train[(train[attribute]==value)&(train['label']==' <=50K')].shape[0] / train[train['label']==' <=50K'].shape[0]) \n",
    "            \n",
    "            \n",
    "            # calculate the log likelihood of a nominal attribute with label c2\n",
    "            # c2_likelihood = np.log(len(y_train.loc[y_train['label']==label])/len(c2_index))\n",
    "            if train[train['label']==' >50K'].shape[0] == 0 or train[(train[attribute]==value)&(train['label']==' >50K')].shape[0] == 0:\n",
    "                c2_likelihood = 0\n",
    "            else:\n",
    "                c2_likelihood = np.log(train[(train[attribute]==value)&(train['label']==' >50K')].shape[0] / train[train['label']==' >50K'].shape[0])\n",
    "                        \n",
    "            \n",
    "            c1_lld_list.append(c1_likelihood)\n",
    "            c2_lld_list.append(c2_likelihood)\n",
    "            \n",
    "        parameter_list.append((c1_lld_list, c2_lld_list))\n",
    "        \n",
    "    # outout the array of DataFrame\n",
    "    output = []\n",
    "    for i in range(len(parameter_list)):\n",
    "        df = pd.DataFrame([parameter_list[i][0], parameter_list[i][1]],\n",
    "                         columns = [list(set(X_train[nominal_attributes[i]]))])\n",
    "        output.append(df)\n",
    "    return output"
   ]
  },
  {
   "cell_type": "code",
   "execution_count": 8,
   "metadata": {},
   "outputs": [],
   "source": [
    "# This function should calculat prior probabilities and likelihoods (conditional probabilities) from the training data and using\n",
    "# to build a naive Bayes model\n",
    "def train(X_train, y_train):\n",
    "    \n",
    "    # calculate the log prior probabilities\n",
    "    prior_c1 = log_prior_prob(' <=50K', y_train)\n",
    "    prior_c2 = log_prior_prob(' >50K', y_train)\n",
    "    prior = pd.DataFrame([prior_c1, prior_c2], columns=['log_prior'])\n",
    "    \n",
    "    # seperate numeric and nominal attributes\n",
    "    numeric_attributes, nominal_attributes = divide_attributes(X_train)\n",
    "    \n",
    "    # store the mean and sd for each numeric attributes\n",
    "    numeric_parameters = mean_sd_dataframe(X_train, y_train, numeric_attributes)\n",
    "    \n",
    "    # store the likelihoods for each nominal attributes\n",
    "    nominal_parameters = get_likelihood(X_train, y_train, nominal_attributes)\n",
    "    \n",
    "    return prior, numeric_parameters, nominal_parameters"
   ]
  },
  {
   "cell_type": "code",
   "execution_count": 9,
   "metadata": {},
   "outputs": [],
   "source": [
    "def seperate_index(df):\n",
    "    num_attribute = len(df.columns)\n",
    "    nominal_index = []\n",
    "    numeric_index = []\n",
    "    \n",
    "    for i in range(num_attribute):\n",
    "        if (df.dtypes[i]=='int64'):\n",
    "            numeric_index.append(i)\n",
    "        else:\n",
    "            nominal_index.append(i)\n",
    "    \n",
    "    return numeric_index, nominal_index"
   ]
  },
  {
   "cell_type": "code",
   "execution_count": 10,
   "metadata": {},
   "outputs": [],
   "source": [
    "def sum_gaussian_pdf(numeric_attr, numeric_parameters):\n",
    "    c1_lld = 0\n",
    "    c2_lld = 0\n",
    "    \n",
    "    for i in range(len(numeric_attr)):\n",
    "        x = numeric_attr[i]\n",
    "        # calculate c1 lld\n",
    "        mean1 = numeric_parameters[numeric_attr.index[i]][0]\n",
    "        sd1 = numeric_parameters[numeric_attr.index[i]][1]\n",
    "        # c1_lld += log_gaussian_pdf(mean1, sd1, x)\n",
    "        log_pdf1 = log_gaussian_pdf(mean1, sd1, x)\n",
    "        if log_pdf1 is not None:\n",
    "            c1_lld = c1_lld + log_pdf1\n",
    "        else:\n",
    "            c1_lld += 0\n",
    "        \n",
    "        # calculate c2 lld\n",
    "        mean2 = numeric_parameters[numeric_attr.index[i]][2]\n",
    "        sd2 = numeric_parameters[numeric_attr.index[i]][3]\n",
    "        # c2_lld += log_gaussian_pdf(mean2, sd2, x)\n",
    "        log_pdf2 = log_gaussian_pdf(mean2, sd2, x)\n",
    "        if log_pdf2 is not None:\n",
    "            c2_lld = c2_lld + log_pdf2\n",
    "        else:\n",
    "            c2_lld += 0\n",
    "                \n",
    "    return c1_lld, c2_lld"
   ]
  },
  {
   "cell_type": "code",
   "execution_count": 11,
   "metadata": {},
   "outputs": [],
   "source": [
    "def sum_likelihood(nominal_attr, nominal_parameters):\n",
    "    c1_lld = 0\n",
    "    c2_lld = 0\n",
    "    \n",
    "    for i in range(len(nominal_attr)):\n",
    "        x = nominal_attr[i]        \n",
    "        for j in range(len(nominal_parameters)):\n",
    "            if x in nominal_parameters[j]:\n",
    "                curr_df = nominal_parameters[j]\n",
    "                \n",
    "                # calculate c1 lld\n",
    "                c1_lld = curr_df.iloc[0][x]\n",
    "                # calculate c2 lld\n",
    "                c2_lld = curr_df.iloc[1][x]\n",
    "    \n",
    "    return c1_lld, c2_lld"
   ]
  },
  {
   "cell_type": "code",
   "execution_count": 12,
   "metadata": {},
   "outputs": [],
   "source": [
    "# This function should predict classes for new items in the testing data\n",
    "def predict(X_test, prior, numeric_parameters, nominal_parameters):\n",
    "    predicted_label = []\n",
    "    c1_hat = []\n",
    "    c2_hat = []\n",
    "    \n",
    "    numeric_index, nominal_index = seperate_index(X_test)\n",
    "    c1_prior = prior['log_prior'][0]\n",
    "    c2_prior = prior['log_prior'][1]\n",
    "    \n",
    "    for i in range(len(X_test)):\n",
    "        c1_numeric_lld, c2_numeric_lld = sum_gaussian_pdf(X_test.iloc[i, numeric_index], numeric_parameters)\n",
    "        c1_nominal_lld, c2_nominal_lld = sum_likelihood(X_test.iloc[i, nominal_index], nominal_parameters)\n",
    "        \n",
    "        # calculate c1 total log posterior\n",
    "        c1_posterior = c1_prior + c1_numeric_lld + c1_nominal_lld\n",
    "        c1_hat.append(c1_posterior)\n",
    "        # calculate c2 total log posterior\n",
    "        c2_posterior = c2_prior + c2_numeric_lld + c2_nominal_lld\n",
    "        c2_hat.append(c2_posterior)\n",
    "        \n",
    "        # compare c1_posterior and c2_posterior\n",
    "        if c1_posterior > c2_posterior:\n",
    "            predicted_label.append(' <=50K')\n",
    "        else:\n",
    "            predicted_label.append(' >50K')\n",
    "        \n",
    "    return predicted_label, c1_hat, c2_hat"
   ]
  },
  {
   "cell_type": "code",
   "execution_count": 13,
   "metadata": {},
   "outputs": [],
   "source": [
    "# This function should evaliate the prediction performance by comparing your model’s class outputs to ground\n",
    "# truth labels, return and output accuracy, confusion matrix and F1 score.\n",
    "def evaluate(y_test, predicted_label):\n",
    "    TP = TN = FP = FN = 0\n",
    "    \n",
    "    for i in range(len(y_test)):\n",
    "        if (predicted_label[i]==' <=50K' and y_test['label'].iloc[i]==' <=50K'):\n",
    "            TP += 1\n",
    "        elif (predicted_label[i]==' >50K' and y_test['label'].iloc[i]==' >50K'):\n",
    "            TN += 1\n",
    "        elif (predicted_label[i]==' <=50K' and y_test['label'].iloc[i]==' >50K'):\n",
    "            FP += 1\n",
    "        else:\n",
    "            FN += 1\n",
    "    \n",
    "    accuracy = (TP+TN) / (TP+TN+FP+FN)\n",
    "    conf_matrix = np.array([[TP, FN], [FP, TN]])\n",
    "    precision = TP / (TP+FP)\n",
    "    recall = TP / (TP+FN)\n",
    "    f_one = (2*precision*recall) / (precision+recall)\n",
    "    \n",
    "    return accuracy, conf_matrix, f_one"
   ]
  },
  {
   "cell_type": "code",
   "execution_count": 14,
   "metadata": {},
   "outputs": [
    {
     "ename": "NameError",
     "evalue": "name 'y_train' is not defined",
     "output_type": "error",
     "traceback": [
      "\u001b[1;31m---------------------------------------------------------------------------\u001b[0m",
      "\u001b[1;31mNameError\u001b[0m                                 Traceback (most recent call last)",
      "Input \u001b[1;32mIn [14]\u001b[0m, in \u001b[0;36m<cell line: 5>\u001b[1;34m()\u001b[0m\n\u001b[0;32m      2\u001b[0m num_labels \u001b[38;5;241m=\u001b[39m \u001b[38;5;241m0\u001b[39m\n\u001b[0;32m      3\u001b[0m label_types \u001b[38;5;241m=\u001b[39m []\n\u001b[1;32m----> 5\u001b[0m \u001b[38;5;28;01mfor\u001b[39;00m i \u001b[38;5;129;01min\u001b[39;00m \u001b[38;5;28mrange\u001b[39m(\u001b[43my_train\u001b[49m\u001b[38;5;241m.\u001b[39mshape[\u001b[38;5;241m0\u001b[39m]):\n\u001b[0;32m      6\u001b[0m     \u001b[38;5;28;01mif\u001b[39;00m y_train\u001b[38;5;241m.\u001b[39miloc[i][\u001b[38;5;124m'\u001b[39m\u001b[38;5;124mlabel\u001b[39m\u001b[38;5;124m'\u001b[39m] \u001b[38;5;129;01mnot\u001b[39;00m \u001b[38;5;129;01min\u001b[39;00m label_types:\n\u001b[0;32m      7\u001b[0m         num_labels \u001b[38;5;241m+\u001b[39m\u001b[38;5;241m=\u001b[39m \u001b[38;5;241m1\u001b[39m\n",
      "\u001b[1;31mNameError\u001b[0m: name 'y_train' is not defined"
     ]
    }
   ],
   "source": [
    "# iterate all the labels to count the number of label types\n",
    "num_labels = 0\n",
    "label_types = []\n",
    "\n",
    "for i in range(y_train.shape[0]):\n",
    "    if y_train.iloc[i]['label'] not in label_types:\n",
    "        num_labels += 1\n",
    "        label_types.append(y_train.iloc[i]['label'])\n",
    "        \n",
    "for i in range(y_test.shape[0]):\n",
    "    if y_test.iloc[i]['label'] not in label_types:\n",
    "        num_labels += 1\n",
    "        label_types.append(y_test.iloc[i]['label'])"
   ]
  },
  {
   "cell_type": "code",
   "execution_count": 15,
   "metadata": {
    "scrolled": false
   },
   "outputs": [
    {
     "name": "stdout",
     "output_type": "stream",
     "text": [
      "Accuracy:  0.79 \n",
      "Confusion Matrix: \n",
      " [[73  4]\n",
      " [17  6]] \n",
      "F1 Score:  0.874251497005988\n",
      "Attribute vectors of instances [0, 1, 2]: \n",
      " [[28 ' Private' ' HS-grad' 9 ' Married-civ-spouse' ' Tech-support'\n",
      "  ' Husband' ' White' ' Male' 40 ' United-States']\n",
      " [63 ' Local-gov' ' 7th-8th' 4 ' Married-civ-spouse' ' Other-service'\n",
      "  ' Husband' ' White' ' Male' 55 ' United-States']\n",
      " [51 ' Self-emp-not-inc' ' 9th' 5 ' Married-civ-spouse' ' Craft-repair'\n",
      "  ' Husband' ' White' ' Male' 20 ' United-States']]\n",
      "\n",
      "Number of instances (N):  1000\n",
      "Number of attributes (F):  11\n",
      "Number of labels (L):  0\n",
      "\n",
      "\n",
      "Predicted class log-probabilities for instance N-3:  <=50K: -5.602452241167827    >50K: -4.761457585842188\n",
      "Predicted class ID for instance N-3:   >50K\n",
      "\n",
      "Predicted class log-probabilities for instance N-2:  <=50K: -6.294519149508661    >50K: -4.761457585842188\n",
      "Predicted class ID for instance N-2:   >50K\n",
      "\n",
      "Predicted class log-probabilities for instance N-1:  <=50K: -3.66279017367217    >50K: -4.761457585842188\n",
      "Predicted class ID for instance N-1:   <=50K\n"
     ]
    }
   ],
   "source": [
    "# This cell should act as your \"main\" function where you call the above functions \n",
    "# on the full ADULT data set, and print the evaluation results. [0.33 marks]\n",
    "\n",
    "\n",
    "# First, read in the data and apply your NB model to the ADULT data\n",
    "# Assume the adult file is stored in the dataset folder\n",
    "X_train, X_test, y_train, y_test = preprocess('dataset/adult.csv')\n",
    "prior, numeric_parameters, nominal_parameters = train(X_train, y_train)\n",
    "predicted_label, c1_hat, c2_hat = predict(X_test, prior, numeric_parameters, nominal_parameters)\n",
    "accuracy, conf_matrix, f_one = evaluate(y_test, predicted_label)\n",
    "\n",
    "\n",
    "# Second, print the full evaluation results from the evaluate() function\n",
    "print(\"Accuracy: \", accuracy, \"\\nConfusion Matrix: \\n\", conf_matrix, \"\\nF1 Score: \", f_one)\n",
    "\n",
    "\n",
    "\n",
    "\n",
    "# Third, print data statistics and model predictions, as instructed below \n",
    "# N is the total number of instances, F the total number of attributes, L the total number of labels\n",
    "# The \"class probabilities\" may be unnormalized\n",
    "# The \"predicted class ID\" must be in range (0, L)\n",
    "\n",
    "print(\"Attribute vectors of instances [0, 1, 2]: \\n\",  X_test.values[:3]) # of the first three records in adult.csv\n",
    "\n",
    "print(\"\\nNumber of instances (N): \", X_train.shape[0] + X_test.shape[0])\n",
    "print(\"Number of attributes (F): \", X_test.shape[1])\n",
    "print(\"Number of labels (L): \", num_labels)\n",
    "\n",
    "\n",
    "# print out the prediction results of the last three instances\n",
    "print(\"\\n\\nPredicted class log-probabilities for instance N-3: \", '<=50K:', c1_hat[X_test.shape[0]-3], '   >50K:', c2_hat[X_test.shape[0]-3])\n",
    "print(\"Predicted class ID for instance N-3: \", predicted_label[X_test.shape[0]-3])\n",
    "print(\"\\nPredicted class log-probabilities for instance N-2: \", '<=50K:', c1_hat[X_test.shape[0]-2], '   >50K:', c2_hat[X_test.shape[0]-3])\n",
    "print(\"Predicted class ID for instance N-2: \", predicted_label[X_test.shape[0]-2])\n",
    "print(\"\\nPredicted class log-probabilities for instance N-1: \", '<=50K:', c1_hat[X_test.shape[0]-1], '   >50K:', c2_hat[X_test.shape[0]-3])\n",
    "print(\"Predicted class ID for instance N-1: \", predicted_label[X_test.shape[0]-1])"
   ]
  },
  {
   "cell_type": "markdown",
   "metadata": {},
   "source": [
    "## Part 2: Conceptual questions [8 marks for groups of 1] / [16 marks for groups of 2]\n",
    "\n",
    "\n",
    "If you are in a group of 1, you should respond to Q1 and Q2.\n",
    "\n",
    "If you are in a group of 2, you should respond to Q1, Q2, Q3 and Q4.\n",
    "\n",
    "A response to a question should take about 100–250 words. You may need to develope codes or functions to help respond to the question here. \n",
    "\n",
    "#### NOTE: We strongly recommend <u>including figures or tables, etc.</u> to support your responses. The figures and tables inserted in Markdown cells must be reproducable by your code."
   ]
  },
  {
   "cell_type": "markdown",
   "metadata": {},
   "source": [
    "### Q1 [4 marks]\n",
    "<u>Sensitivity</u> and <u>specificity</u> are two model evaluation metrics.  A good model should have both sensitivity and specificity high. Use the $2 \\times 2$ confusion matrix returned by `evaluate()` to calculate the sensitivity and specificity. Do you see a difference between them? If so, what causes this difference? Provide suggestions to improve the model performance. "
   ]
  },
  {
   "cell_type": "code",
   "execution_count": 16,
   "metadata": {},
   "outputs": [
    {
     "name": "stdout",
     "output_type": "stream",
     "text": [
      "Sensitivity: 0.948051948051948\n",
      "Specificity: 0.2608695652173913\n"
     ]
    }
   ],
   "source": [
    "# Write additional code here, if necessary (you may insert additional code cells)\n",
    "conf_matrix = evaluate(y_test, predicted_label)[1]\n",
    "TP, FN, FP, TN = conf_matrix[0][0], conf_matrix[0][1], conf_matrix[1][0], conf_matrix[1][1]\n",
    "\n",
    "sensitivity = TP / (TP + FN)\n",
    "specificity = TN / (TN + FP)\n",
    "print(f'Sensitivity: {sensitivity}')\n",
    "print(f'Specificity: {specificity}')"
   ]
  },
  {
   "cell_type": "markdown",
   "metadata": {},
   "source": [
    "Provide your text answer of 150-200 words in this cell.\n",
    "\n",
    "* The difference: Sensitivity value is significantly higher than specificity. Sensitivity is the ratio of detected positive instances out of all positive instances. In contrast, specificity is the ratio of detected negative instances out of all negative instances. Therefore we can conclude that the model has good estimation on positive instances (' <=50K'). However it does not work properly when detecting the negative instances (' >50K').\n",
    "\n",
    "\n",
    "* Cause of the difference: The reason of this result might be the unbalanced data distribution. In the adult csv we can find over 75% training data have positive labels. Then the model is more likely to estimate the next instance is also positive, as the prior probability of positive label is significant greater than negative label. This can lead to high value of TP (true positive) and low value of TN (true negative). Then according to the formulas, the high value of sensitivity and low value of specificity makes sense.\n",
    "\n",
    "\n",
    "* Suggestions to improve: Since a major problem is the unbalanced data distribution, we can keep the same number of positive samples and negative samples in the training data. In addition we can apply resampling technique to make sure that train and test data have the same class distribution. Despite the unbalanced data, the missing values also have potential effects to the prediction result. Therefore we can also attempt a proper method to deal with the missing values, which might enhance the model's performance."
   ]
  },
  {
   "cell_type": "markdown",
   "metadata": {},
   "source": [
    "### Q2 [4 marks]\n",
    "You can adopt different methods for training and/or testing, which will produce different results in model evaluation. \n",
    "\n",
    "(a) Instead of Gaussian, <u>implement KDE</u> for  $P(X_i|c_j)$ for numeric attributes $X_i$. Compare the evaluation results with Gaussian. Which one do you think is more suitable to model $P(X_i|c_j)$, Gaussian or KDE? Observe all numeric attributes and justify your answer.\n",
    "\n",
    "You can choose an arbitrary value for kernel bandwidth $\\sigma$ for KDE, but a value between 3 and 15 is recommended. You should write code to implement KDE, not call an existing function/method such as `KernelDensity` from `scikit-learn`.\n",
    "\n",
    "(b) Implement <u>10-fold and 2-fold cross-validations</u>.  \n",
    "\tObserve the evaluation results in each fold and the average accuracy, recall and specificity over all folds. \n",
    "\tComment on what is the effect by changing the values of $m$ in $m$-fold cross validation. (You can choose either Gaussian or KDE Naive Bayes.)"
   ]
  },
  {
   "cell_type": "code",
   "execution_count": 17,
   "metadata": {},
   "outputs": [],
   "source": [
    "# This function calculates the Gaussian pdf with mean 0 and arbitrary kernel bandwidth\n",
    "def gaussian_pdf(x, bandwidth, xi):\n",
    "    return (1 / bandwidth * math.sqrt(2 * math.pi)) * np.exp(-(xi - x) ** 2 / (2 * bandwidth ** 2))"
   ]
  },
  {
   "cell_type": "code",
   "execution_count": 18,
   "metadata": {},
   "outputs": [],
   "source": [
    "def KDE_pdf(x, c_attr, bandwidth):\n",
    "    KDE_lld = []\n",
    "    for i in c_attr.index:\n",
    "        xi = c_attr[i]\n",
    "        KDE_lld.append(gaussian_pdf(x, bandwidth, xi))\n",
    "    return np.log(np.mean(KDE_lld))"
   ]
  },
  {
   "cell_type": "code",
   "execution_count": 19,
   "metadata": {},
   "outputs": [],
   "source": [
    "# This function calculates the likelihood of a single-line test data corresponds to one specific class\n",
    "def get_KDE_likelihood(X_train, x_test, y_train, numeric_attr, bandwidth):\n",
    "    parameter_list = []    \n",
    "    # get the indices of instances with label ' <=50K'\n",
    "    c1_index = y_train.loc[y_train['label']==' <=50K'].index\n",
    "    # get the indices of instances with label ' >50K'\n",
    "    c2_index = y_train.loc[y_train['label']==' >50K'].index\n",
    "    \n",
    "    for attr in numeric_attr:\n",
    "        c1_lld = []\n",
    "        c2_lld = []\n",
    "        c1_attr = X_train.loc[c1_index, attr]\n",
    "        c2_attr = X_train.loc[c2_index, attr]\n",
    "        \n",
    "        for i in X_test.index:\n",
    "            x = X_test[attr][i]\n",
    "            c1_lld.append(KDE_pdf(x, c1_attr, bandwidth))\n",
    "            c2_lld.append(KDE_pdf(x, c2_attr, bandwidth))\n",
    "            \n",
    "        parameter_list.append(c1_lld)\n",
    "        parameter_list.append(c2_lld)\n",
    "    \n",
    "    df = pd.DataFrame(parameter_list, index=['c1_age', 'c2_age', 'c1_educ', 'c2_educ', 'c1_hours', 'c2_hours'])\n",
    "\n",
    "    return df"
   ]
  },
  {
   "cell_type": "code",
   "execution_count": 20,
   "metadata": {},
   "outputs": [],
   "source": [
    "# Write additional code here, if necessary (you may insert additional code cells)\n",
    "# This function should calculat prior probabilities and likelihoods (conditional probabilities) from the training data and using\n",
    "# to build a KDE naive Bayes model\n",
    "def KDE_train(X_train, X_test, y_train, bandwidth):\n",
    "    # calculate the log prior probabilities\n",
    "    prior_c1 = log_prior_prob(' <=50K', y_train)\n",
    "    prior_c2 = log_prior_prob(' >50K', y_train)\n",
    "    prior = pd.DataFrame([prior_c1, prior_c2], columns=['log_prior'])\n",
    "    \n",
    "    # seperate numeric and nominal attributes\n",
    "    numeric_attributes, nominal_attributes = divide_attributes(X_train)\n",
    "    \n",
    "    # store the KDE likelihood for each numeric attributes\n",
    "    numeric_parameters = get_KDE_likelihood(X_train, X_test, y_train, numeric_attributes, bandwidth)\n",
    "    \n",
    "    # store the likelihoods for each nominal attributes\n",
    "    nominal_parameters = get_likelihood(X_train, y_train, nominal_attributes)\n",
    "    \n",
    "    return prior, numeric_parameters, nominal_parameters"
   ]
  },
  {
   "cell_type": "code",
   "execution_count": 21,
   "metadata": {},
   "outputs": [],
   "source": [
    "# Make small change on predict function to adapt KDE prediction\n",
    "def KDE_predict(X_test, prior, numeric_parameters, nominal_parameters):\n",
    "    predicted_label = []\n",
    "    c1_hat = []\n",
    "    c2_hat = []\n",
    "    \n",
    "    numeric_index, nominal_index = seperate_index(X_test)\n",
    "    c1_prior = prior['log_prior'][0]\n",
    "    c2_prior = prior['log_prior'][1]\n",
    "    \n",
    "    for i in range(len(X_test)):\n",
    "        # obtain the data from previous dataframe\n",
    "        c1_numeric_lld = (numeric_parameters[i]['c1_age'] + numeric_parameters[i]['c1_educ'] + numeric_parameters[i]['c1_hours'])\n",
    "        c2_numeric_lld = (numeric_parameters[i]['c2_age'] + numeric_parameters[i]['c2_educ'] + numeric_parameters[i]['c2_hours'])\n",
    "        \n",
    "        c1_nominal_lld, c2_nominal_lld = sum_likelihood(X_test.iloc[i, nominal_index], nominal_parameters)\n",
    "        \n",
    "        # calculate c1 total log posterior\n",
    "        c1_posterior = c1_prior + c1_numeric_lld + c1_nominal_lld\n",
    "        c1_hat.append(c1_posterior)\n",
    "        # calculate c2 total log posterior\n",
    "        c2_posterior = c2_prior + c2_numeric_lld + c2_nominal_lld\n",
    "        c2_hat.append(c2_posterior)\n",
    "        \n",
    "        # compare c1_posterior and c2_posterior\n",
    "        if c1_posterior > c2_posterior:\n",
    "            predicted_label.append(' <=50K')\n",
    "        else:\n",
    "            predicted_label.append(' >50K')\n",
    "        \n",
    "    return predicted_label, c1_hat, c2_hat"
   ]
  },
  {
   "cell_type": "code",
   "execution_count": 22,
   "metadata": {},
   "outputs": [
    {
     "name": "stdout",
     "output_type": "stream",
     "text": [
      "Evaluation results of KDE (bandwidth=10) \n",
      "Accuracy:  0.76\n",
      "F1:  0.8620689655172413\n",
      "Sensitivity: 0.974025974025974\n",
      "Specificity: 0.043478260869565216\n"
     ]
    }
   ],
   "source": [
    "## evaluate the KDE \n",
    "X_train, X_test, y_train, y_test = preprocess('dataset/adult.csv')\n",
    "prior_proba, con_proba_num, con_proba_cat = KDE_train(X_train, X_test, y_train, 10)\n",
    "y_predict_kde = KDE_predict(X_test, prior_proba, con_proba_num, con_proba_cat)\n",
    "acc_kde, cm_kde, f1_kde = evaluate(y_test, y_predict_kde[0])\n",
    "\n",
    "tp_kde, fn_kde, fp_kde, tn_kde = cm_kde[0][0], cm_kde[0][1], cm_kde[1][0], cm_kde[1][1]\n",
    "sensitivity_kde = tp_kde / (tp_kde + fn_kde)\n",
    "specificity_kde = tn_kde / (tn_kde + fp_kde)\n",
    "\n",
    "print(\"Evaluation results of KDE (bandwidth=10) \")\n",
    "print(\"Accuracy: \", acc_kde)\n",
    "print(\"F1: \", f1_kde)\n",
    "print(f'Sensitivity: {sensitivity_kde}')\n",
    "print(f'Specificity: {specificity_kde}')"
   ]
  },
  {
   "cell_type": "code",
   "execution_count": 23,
   "metadata": {},
   "outputs": [
    {
     "data": {
      "text/html": [
       "<div>\n",
       "<style scoped>\n",
       "    .dataframe tbody tr th:only-of-type {\n",
       "        vertical-align: middle;\n",
       "    }\n",
       "\n",
       "    .dataframe tbody tr th {\n",
       "        vertical-align: top;\n",
       "    }\n",
       "\n",
       "    .dataframe thead th {\n",
       "        text-align: right;\n",
       "    }\n",
       "</style>\n",
       "<table border=\"1\" class=\"dataframe\">\n",
       "  <thead>\n",
       "    <tr style=\"text-align: right;\">\n",
       "      <th></th>\n",
       "      <th>Accuracy</th>\n",
       "      <th>F1-Score</th>\n",
       "      <th>Sensitivity</th>\n",
       "      <th>Specificity</th>\n",
       "    </tr>\n",
       "  </thead>\n",
       "  <tbody>\n",
       "    <tr>\n",
       "      <th>Gaussian</th>\n",
       "      <td>0.79</td>\n",
       "      <td>0.874251</td>\n",
       "      <td>0.948052</td>\n",
       "      <td>0.26087</td>\n",
       "    </tr>\n",
       "    <tr>\n",
       "      <th>KDE</th>\n",
       "      <td>0.76</td>\n",
       "      <td>0.862069</td>\n",
       "      <td>0.974026</td>\n",
       "      <td>0.043478</td>\n",
       "    </tr>\n",
       "  </tbody>\n",
       "</table>\n",
       "</div>"
      ],
      "text/plain": [
       "         Accuracy  F1-Score Sensitivity Specificity\n",
       "Gaussian     0.79  0.874251    0.948052     0.26087\n",
       "KDE          0.76  0.862069    0.974026    0.043478"
      ]
     },
     "execution_count": 23,
     "metadata": {},
     "output_type": "execute_result"
    }
   ],
   "source": [
    "# Compare the evaluation results between Gaussian and KDE\n",
    "results = pd.DataFrame(index=['Gaussian', 'KDE'], \n",
    "                       columns=['Accuracy', 'F1-Score', 'Sensitivity', 'Specificity'])\n",
    "results.loc['Gaussian'] = [accuracy, f_one, sensitivity, specificity]\n",
    "results.loc['KDE'] = [acc_kde, f1_kde, sensitivity_kde, specificity_kde]\n",
    "results"
   ]
  },
  {
   "cell_type": "markdown",
   "metadata": {
    "jupyter": {
     "outputs_hidden": true
    }
   },
   "source": [
    "Provide your text answer of 150-200 words in this cell.\n",
    "\n",
    "Q2 (a)\n",
    "\n",
    "From the testing result, KDE looks more suitable to model 𝑃(𝑋𝑖|𝑐𝑗). Using KDE model specificity increases while the other data does not change significantly. In the perspect of numeric attributes, if their distributions follow Gaussian distribution then Gaussian naive bayes is a proper model. However if the distributions of the attributes do not match Gaussian distribution, KDE becomes a more suitable model. KDE does not assume a distribution therefore it works better for data without a clear distribution."
   ]
  },
  {
   "cell_type": "code",
   "execution_count": 24,
   "metadata": {},
   "outputs": [],
   "source": [
    "# Q2 (b)\n",
    "# make some change to the evaluate function to adapt cross validation \n",
    "def CV_evaluate(y_test, predicted_label):\n",
    "    TP = TN = FP = FN = 0\n",
    "    \n",
    "    for i in range(len(y_test)):\n",
    "        if (predicted_label[i]==' <=50K' and y_test['label'].iloc[i]==' <=50K'):\n",
    "            TP += 1\n",
    "        elif (predicted_label[i]==' >50K' and y_test['label'].iloc[i]==' >50K'):\n",
    "            TN += 1\n",
    "        elif (predicted_label[i]==' <=50K' and y_test['label'].iloc[i]==' >50K'):\n",
    "            FP += 1\n",
    "        else:\n",
    "            FN += 1\n",
    "    \n",
    "    accuracy = (TP+TN) / (TP+TN+FP+FN)\n",
    "    recall = TP / (TP+FN)\n",
    "    specificity = TN / (TN+FP)\n",
    "    \n",
    "    return accuracy, recall, specificity"
   ]
  },
  {
   "cell_type": "code",
   "execution_count": 25,
   "metadata": {},
   "outputs": [],
   "source": [
    "def k_fold_CV(k, filename):\n",
    "    accuracy_list = []\n",
    "    recall_list = []\n",
    "    specificity_list = []\n",
    "    \n",
    "    df = pd.read_csv(filename)\n",
    "    split_ratio = 1/k\n",
    "    split_size = split_ratio*len(df)\n",
    "    \n",
    "    for i in range(k):\n",
    "        test_index = list(range(int(split_size*i), int(split_size*(i+1))))\n",
    "        train_index = df.index.drop(test_index)\n",
    "        \n",
    "        X_train = df.iloc[train_index, :-1]\n",
    "        X_test = df.iloc[test_index, :-1]\n",
    "        y_train = df.iloc[train_index, -1:]\n",
    "        y_test = df.iloc[test_index, -1:]\n",
    "        \n",
    "        prior, numeric_parameters, nominal_parameters = train(X_train, y_train)\n",
    "        predicted_label, c1_hat, c2_hat = predict(X_test, prior, numeric_parameters, nominal_parameters)\n",
    "        accuracy, recall, specificity = CV_evaluate(y_test, predicted_label)\n",
    "        \n",
    "        accuracy_list.append(accuracy)\n",
    "        recall_list.append(recall)\n",
    "        specificity_list.append(specificity)\n",
    "    \n",
    "    return accuracy_list, recall_list, specificity_list"
   ]
  },
  {
   "cell_type": "code",
   "execution_count": 26,
   "metadata": {},
   "outputs": [
    {
     "data": {
      "text/plain": [
       "([0.77, 0.72, 0.77, 0.79, 0.8, 0.78, 0.74, 0.78, 0.8, 0.79],\n",
       " [0.8533333333333334,\n",
       "  0.8205128205128205,\n",
       "  0.8831168831168831,\n",
       "  0.948051948051948,\n",
       "  0.9,\n",
       "  0.8860759493670886,\n",
       "  0.8701298701298701,\n",
       "  0.8552631578947368,\n",
       "  0.9315068493150684,\n",
       "  0.948051948051948],\n",
       " [0.52,\n",
       "  0.36363636363636365,\n",
       "  0.391304347826087,\n",
       "  0.2608695652173913,\n",
       "  0.4,\n",
       "  0.38095238095238093,\n",
       "  0.30434782608695654,\n",
       "  0.5416666666666666,\n",
       "  0.4444444444444444,\n",
       "  0.2608695652173913])"
      ]
     },
     "execution_count": 26,
     "metadata": {},
     "output_type": "execute_result"
    }
   ],
   "source": [
    "accuracy_10_fold, recall_10_fold, specificity_10_fold = k_fold_CV(10,'dataset/adult.csv')\n",
    "accuracy_10_fold, recall_10_fold, specificity_10_fold"
   ]
  },
  {
   "cell_type": "code",
   "execution_count": 27,
   "metadata": {},
   "outputs": [
    {
     "data": {
      "text/plain": [
       "([0.752, 0.774],\n",
       " [0.8604651162790697, 0.9057591623036649],\n",
       " [0.3805309734513274, 0.3474576271186441])"
      ]
     },
     "execution_count": 27,
     "metadata": {},
     "output_type": "execute_result"
    }
   ],
   "source": [
    "accuracy_2_fold, recall_2_fold, specificity_2_fold = k_fold_CV(2,'dataset/adult.csv')\n",
    "accuracy_2_fold, recall_2_fold, specificity_2_fold"
   ]
  },
  {
   "cell_type": "markdown",
   "metadata": {},
   "source": [
    "Q2 (b)\n",
    "\n",
    "10 fold has more reliabel result while 2 fold is more time efficient. 10 fold have more regular results, but 2 fold varies a lot. The greater the number of fold, the model uses more training data, hence it takes longer to proceed while the results are more reliable. The most extreme example would be the leave one out cross validation."
   ]
  },
  {
   "cell_type": "markdown",
   "metadata": {},
   "source": [
    "### Q3 [4 marks]\n",
    "In `train()`, you are asked to treat the missing value of nominal attributes as a new category. There is another option (as suggested in Thu lecture in week 2): <u>ignoring the missing values</u>. \n",
    "Compare the two methods in both large and small datasets. Comment and explain your observations.\n",
    "You can extract the first 50 records to construct a small dataset.Use Gaussian Naive Bayes only for this question."
   ]
  },
  {
   "cell_type": "code",
   "execution_count": 6,
   "metadata": {},
   "outputs": [],
   "source": [
    "# Write additional code here, if necessary (you may insert additional code cells)"
   ]
  },
  {
   "cell_type": "markdown",
   "metadata": {},
   "source": [
    "Provide your text answer of 150-200 words in this cell."
   ]
  },
  {
   "cell_type": "markdown",
   "metadata": {},
   "source": [
    "### Q4 [4 marks]\n",
    "In week 4, we have learned how to obtain information gain (IG) and gain ratio (GR) to choose an attribute to split a node in a decision tree. We will see how to apply them in the Naive Bayes classification.\n",
    "\n",
    "(a) Compute the GR of each attribute $X_i$, relative to the class distribution. In the Na\\\"ive Bayes classifier, remove attributes in the ascending order of GR: first, remove $P(X_i|c_j)$ such that $X_i$ has the least GR; second, remove $P(X_{i'}|c_j)$ such that $X_{i'}$ has the second least GR,......, until there is only one $X_{i*}$ with the largest GR remaining in the maximand $P(c_j) P(X_{i^*} | c_j)$. Observe the <u>change of the accuracy for both Gaussian and KDE</u> (Choose bandwidth $\\sigma=10$ for KDE).\n",
    "\n",
    "(b) Compute the IG between each pair of attributes. Describe and explain your observations. Choose an attribute and implement an estimator to predict the value of `education num`. Explain why you choose this attribute. Enumerate two other examples that an attribute can be used to estimate the other and explain the reason.  "
   ]
  },
  {
   "cell_type": "code",
   "execution_count": null,
   "metadata": {},
   "outputs": [],
   "source": [
    "# Write additional code here, if necessary (you may insert additional code cells)"
   ]
  },
  {
   "cell_type": "markdown",
   "metadata": {},
   "source": [
    "### (a)"
   ]
  },
  {
   "cell_type": "markdown",
   "metadata": {},
   "source": [
    "Provide your text answer to **Question 4.a** of 100-150 words in this cell."
   ]
  },
  {
   "cell_type": "markdown",
   "metadata": {},
   "source": [
    "### (b)"
   ]
  },
  {
   "cell_type": "markdown",
   "metadata": {},
   "source": [
    "Provide your text answer to **Question 4.b** of 150-200 words in this cell."
   ]
  },
  {
   "cell_type": "markdown",
   "metadata": {},
   "source": [
    "<b>Authorship Declaration</b>:\n",
    "\n",
    "   (1) I certify that the program contained in this submission is completely\n",
    "   my own individual work, except where explicitly noted by comments that\n",
    "   provide details otherwise.  I understand that work that has been developed\n",
    "   by another student, or by me in collaboration with other students,\n",
    "   or by non-students as a result of request, solicitation, or payment,\n",
    "   may not be submitted for assessment in this subject.  I understand that\n",
    "   submitting for assessment work developed by or in collaboration with\n",
    "   other students or non-students constitutes Academic Misconduct, and\n",
    "   may be penalized by mark deductions, or by other penalties determined\n",
    "   via the University of Melbourne Academic Honesty Policy, as described\n",
    "   at https://academicintegrity.unimelb.edu.au.\n",
    "\n",
    "   (2) I also certify that I have not provided a copy of this work in either\n",
    "   softcopy or hardcopy or any other form to any other student, and nor will\n",
    "   I do so until after the marks are released. I understand that providing\n",
    "   my work to other students, regardless of my intention or any undertakings\n",
    "   made to me by that other student, is also Academic Misconduct.\n",
    "\n",
    "   (3) I further understand that providing a copy of the assignment\n",
    "   specification to any form of code authoring or assignment tutoring\n",
    "   service, or drawing the attention of others to such services and code\n",
    "   that may have been made available via such a service, may be regarded\n",
    "   as Student General Misconduct (interfering with the teaching activities\n",
    "   of the University and/or inciting others to commit Academic Misconduct).\n",
    "   I understand that an allegation of Student General Misconduct may arise\n",
    "   regardless of whether or not I personally make use of such solutions\n",
    "   or sought benefit from such actions.\n",
    "\n",
    "   <b>Signed by</b>: [Jie Xie, 1174437]\n",
    "   \n",
    "   <b>Dated</b>: [03/04/2022]"
   ]
  },
  {
   "cell_type": "code",
   "execution_count": null,
   "metadata": {},
   "outputs": [],
   "source": []
  }
 ],
 "metadata": {
  "kernelspec": {
   "display_name": "Python 3",
   "language": "python",
   "name": "python3"
  },
  "language_info": {
   "codemirror_mode": {
    "name": "ipython",
    "version": 3
   },
   "file_extension": ".py",
   "mimetype": "text/x-python",
   "name": "python",
   "nbconvert_exporter": "python",
   "pygments_lexer": "ipython3",
   "version": "3.10.2"
  }
 },
 "nbformat": 4,
 "nbformat_minor": 4
}
